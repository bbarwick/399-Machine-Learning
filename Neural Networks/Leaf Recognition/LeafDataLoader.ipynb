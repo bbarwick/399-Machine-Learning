{
 "cells": [
  {
   "cell_type": "code",
   "execution_count": 1,
   "metadata": {
    "collapsed": true
   },
   "outputs": [],
   "source": [
    "import cv2\n",
    "import numpy as np\n",
    "from matplotlib import pyplot as plt"
   ]
  },
  {
   "cell_type": "code",
   "execution_count": 144,
   "metadata": {
    "collapsed": false
   },
   "outputs": [
    {
     "name": "stdout",
     "output_type": "stream",
     "text": [
      "(1706L, 1089L)\n",
      "(1338, 573)\n"
     ]
    }
   ],
   "source": [
    "# Find the maximum width and height among the images.\n",
    "max_width = 0\n",
    "max_height = 0\n",
    "maxw_index = 0\n",
    "maxh_index = 0\n",
    "for i in range(1,1585):\n",
    "    image = cv2.imread(\"images\\\\\"+str(i)+\".jpg\")\n",
    "    height,width = image.shape[:2]\n",
    "    if max_width < width:\n",
    "        max_width = width\n",
    "        maxw_index = i\n",
    "    if max_height < height:\n",
    "        max_height = height\n",
    "        maxh_index = i\n",
    "    \n",
    "print (max_width,max_height)\n",
    "print (maxw_index,maxh_index)\n",
    "# Max width of 1706 occurs in 1338.jpg\n",
    "# Max height of 1089 occurs in 573.jpg"
   ]
  },
  {
   "cell_type": "code",
   "execution_count": 73,
   "metadata": {
    "collapsed": false
   },
   "outputs": [
    {
     "name": "stdout",
     "output_type": "stream",
     "text": [
      "(467L, 526L)\n",
      "(1089L, 1706L)\n"
     ]
    }
   ],
   "source": [
    "# Example of padding a single image.\n",
    "i = 1\n",
    "image = cv2.imread(\"images\\\\\"+str(i)+\".jpg\")\n",
    "height,width = image.shape[:2]\n",
    "max_width = 1706\n",
    "max_height = 1089\n",
    "half_width_diff = (max_width-width)/2.0\n",
    "half_height_diff = (max_height-height)/2.0\n",
    "left_pad = int(np.floor(half_width_diff))\n",
    "right_pad = int(np.ceil(half_width_diff))\n",
    "top_pad = int(np.floor(half_height_diff))\n",
    "bottom_pad = int(np.ceil(half_height_diff))\n",
    "result = cv2.copyMakeBorder(image, top_pad, bottom_pad, left_pad, right_pad, cv2.BORDER_CONSTANT, 0);\n",
    "print image.shape[:2]\n",
    "print result.shape[:2]"
   ]
  },
  {
   "cell_type": "code",
   "execution_count": 74,
   "metadata": {
    "collapsed": false
   },
   "outputs": [
    {
     "data": {
      "image/png": "[encoded data removed]",
      "text/plain": [
       "<matplotlib.figure.Figure at 0x8337550>"
      ]
     },
     "metadata": {},
     "output_type": "display_data"
    },
    {
     "data": {
      "image/png": "[encoded data removed]",
      "text/plain": [
       "<matplotlib.figure.Figure at 0x8040fd0>"
      ]
     },
     "metadata": {},
     "output_type": "display_data"
    }
   ],
   "source": [
    "plt.imshow(image)\n",
    "plt.show()\n",
    "plt.imshow(result)\n",
    "plt.show()"
   ]
  },
  {
   "cell_type": "code",
   "execution_count": 76,
   "metadata": {
    "collapsed": false
   },
   "outputs": [],
   "source": [
    "# Construct all of the padded images.\n",
    "\n",
    "max_width = 1706\n",
    "max_height = 1089\n",
    "    \n",
    "for i in range(1,1585):\n",
    "    image = cv2.imread(\"images\\\\\"+str(i)+\".jpg\")\n",
    "    height,width = image.shape[:2]\n",
    "    half_width_diff = (max_width-width)/2.0\n",
    "    half_height_diff = (max_height-height)/2.0\n",
    "    left_pad = int(np.floor(half_width_diff))\n",
    "    right_pad = int(np.ceil(half_width_diff))\n",
    "    top_pad = int(np.floor(half_height_diff))\n",
    "    bottom_pad = int(np.ceil(half_height_diff))\n",
    "    result = cv2.copyMakeBorder(image, top_pad, bottom_pad, left_pad, right_pad, cv2.BORDER_CONSTANT, 0);\n",
    "    cv2.imwrite(\"padded_images\\\\\"+str(i)+\".jpg\",result)"
   ]
  },
  {
   "cell_type": "code",
   "execution_count": 136,
   "metadata": {
    "collapsed": false
   },
   "outputs": [],
   "source": [
    "# Method to compute indices of minimal bounding box for images.\n",
    "# Finds the first x and y indices where a non-black color appears.\n",
    "\n",
    "def bounding_box(image):\n",
    "    height,width = image.shape[:2]\n",
    "    x_min = 0\n",
    "    x_max = width-1\n",
    "    y_min = 0\n",
    "    y_max = height-1\n",
    "    for i in range(height):\n",
    "        if np.any(image[i]):\n",
    "            y_min = i\n",
    "            break\n",
    "    for i in range(height):\n",
    "        if np.any(image[-i]):\n",
    "            y_max = height-1-i\n",
    "            break\n",
    "    image_transpose = cv2.transpose(image)\n",
    "    for i in range(width):\n",
    "        if np.any(image_transpose[i]):\n",
    "            x_min = i\n",
    "            break\n",
    "    for i in range(width):\n",
    "        if np.any(image_transpose[-i]):\n",
    "            x_max = width-1-i\n",
    "            break\n",
    "    return y_min,y_max,x_min,x_max"
   ]
  },
  {
   "cell_type": "code",
   "execution_count": 139,
   "metadata": {
    "collapsed": false
   },
   "outputs": [
    {
     "name": "stdout",
     "output_type": "stream",
     "text": [
      "448 638 544 1158\n"
     ]
    },
    {
     "data": {
      "image/png": "[encoded data removed]",
      "text/plain": [
       "<matplotlib.figure.Figure at 0x91c4358>"
      ]
     },
     "metadata": {},
     "output_type": "display_data"
    }
   ],
   "source": [
    "i = 2\n",
    "image = cv2.imread(\"padded_images\\\\\"+str(i)+\".jpg\")\n",
    "height,width = image.shape[:2]\n",
    "y_min,y_max,x_min,x_max = bounding_box(image)\n",
    "print y_min,y_max,x_min,x_max\n",
    "# Display cropped image with minimal negative space\n",
    "plt.imshow(image[y_min:y_max+1,x_min:x_max+1])\n",
    "plt.show()"
   ]
  },
  {
   "cell_type": "code",
   "execution_count": 141,
   "metadata": {
    "collapsed": false
   },
   "outputs": [
    {
     "name": "stdout",
     "output_type": "stream",
     "text": [
      "(272, 814L, 448, 1254L)\n",
      "(176, 902L, 232, 1454L)\n",
      "(176, 902L, 232, 1454L)\n",
      "(176, 902L, 104, 1590L)\n",
      "(104, 990L, 104, 1590L)\n",
      "(104, 990L, 104, 1590L)\n",
      "(104, 990L, 104, 1590L)\n",
      "(104, 990L, 104, 1590L)\n",
      "(104, 990L, 104, 1590L)\n",
      "(104, 990L, 104, 1590L)\n",
      "(104, 990L, 104, 1590L)\n",
      "(104, 990L, 104, 1590L)\n",
      "(40, 1046L, 104, 1590L)\n",
      "(40, 1046L, 104, 1590L)\n",
      "(40, 1046L, 104, 1590L)\n",
      "(40, 1046L, 104, 1590L)\n",
      "(40, 1046L, 104, 1590L)\n",
      "(40, 1046L, 104, 1590L)\n",
      "(40, 1046L, 104, 1590L)\n",
      "(40, 1046L, 48, 1622L)\n",
      "(40, 1046L, 48, 1622L)\n",
      "(40, 1046L, 48, 1622L)\n",
      "(40, 1046L, 48, 1622L)\n",
      "(40, 1046L, 48, 1622L)\n",
      "(40, 1046L, 48, 1622L)\n",
      "(40, 1046L, 48, 1622L)\n",
      "(40, 1046L, 48, 1622L)\n",
      "(40, 1046L, 48, 1622L)\n",
      "(40, 1046L, 48, 1622L)\n",
      "(40, 1046L, 48, 1622L)\n",
      "(40, 1046L, 48, 1622L)\n",
      "(40, 1046L, 48, 1622L)\n",
      "(40, 1046L, 48, 1622L)\n",
      "(40, 1046L, 48, 1622L)\n",
      "(40, 1046L, 48, 1622L)\n",
      "(40, 1046L, 48, 1622L)\n",
      "(40, 1046L, 48, 1622L)\n",
      "(40, 1046L, 48, 1622L)\n",
      "(40, 1046L, 48, 1622L)\n",
      "(40, 1046L, 48, 1622L)\n",
      "(40, 1046L, 48, 1622L)\n",
      "(40, 1046L, 48, 1622L)\n",
      "(40, 1046L, 48, 1622L)\n",
      "(40, 1046L, 48, 1622L)\n",
      "(40, 1046L, 48, 1622L)\n",
      "(40, 1046L, 48, 1622L)\n",
      "(40, 1046L, 48, 1622L)\n",
      "(40, 1046L, 48, 1622L)\n",
      "(40, 1046L, 48, 1622L)\n",
      "(40, 1046L, 48, 1622L)\n",
      "(40, 1046L, 48, 1622L)\n",
      "(40, 1046L, 48, 1622L)\n",
      "(40, 1046L, 48, 1622L)\n",
      "(40, 1046L, 48, 1622L)\n",
      "(40, 1046L, 48, 1622L)\n",
      "(40, 1046L, 48, 1622L)\n",
      "(40, 1046L, 48, 1622L)\n",
      "(24, 1062L, 48, 1622L)\n",
      "(24, 1062L, 48, 1622L)\n",
      "(24, 1062L, 48, 1622L)\n",
      "(24, 1062L, 48, 1622L)\n",
      "(24, 1062L, 48, 1622L)\n",
      "(24, 1062L, 48, 1622L)\n",
      "(24, 1062L, 48, 1622L)\n",
      "(24, 1062L, 48, 1622L)\n",
      "(24, 1062L, 48, 1622L)\n",
      "(24, 1062L, 48, 1622L)\n",
      "(24, 1062L, 48, 1622L)\n",
      "(24, 1062L, 48, 1622L)\n",
      "(24, 1062L, 48, 1622L)\n",
      "(24, 1062L, 48, 1622L)\n",
      "(24, 1062L, 48, 1622L)\n",
      "(24, 1062L, 48, 1622L)\n",
      "(24, 1062L, 48, 1622L)\n",
      "(24, 1062L, 48, 1622L)\n",
      "(24, 1062L, 48, 1622L)\n",
      "(24, 1062L, 48, 1622L)\n",
      "(24, 1062L, 48, 1622L)\n",
      "(24, 1062L, 48, 1622L)\n",
      "(24, 1062L, 48, 1622L)\n",
      "(24, 1062L, 48, 1622L)\n",
      "(24, 1062L, 48, 1622L)\n",
      "(24, 1062L, 48, 1622L)\n",
      "(24, 1062L, 48, 1622L)\n",
      "(24, 1062L, 48, 1622L)\n",
      "(24, 1062L, 48, 1622L)\n",
      "(24, 1062L, 48, 1622L)\n",
      "(24, 1062L, 48, 1622L)\n",
      "(24, 1062L, 48, 1622L)\n",
      "(24, 1062L, 48, 1622L)\n",
      "(24, 1062L, 48, 1622L)\n",
      "(24, 1062L, 48, 1622L)\n",
      "(24, 1062L, 48, 1622L)\n",
      "(24, 1062L, 48, 1622L)\n",
      "(24, 1062L, 48, 1622L)\n",
      "(24, 1062L, 48, 1622L)\n",
      "(24, 1062L, 48, 1622L)\n",
      "(24, 1062L, 48, 1622L)\n",
      "(24, 1062L, 48, 1622L)\n",
      "(24, 1062L, 48, 1622L)\n",
      "(24, 1062L, 48, 1622L)\n",
      "(24, 1062L, 48, 1622L)\n",
      "(24, 1062L, 48, 1622L)\n",
      "(24, 1062L, 48, 1638L)\n",
      "(24, 1062L, 48, 1638L)\n",
      "(24, 1062L, 48, 1638L)\n",
      "(24, 1062L, 48, 1638L)\n",
      "(24, 1062L, 48, 1638L)\n",
      "(24, 1062L, 48, 1638L)\n",
      "(24, 1062L, 48, 1638L)\n",
      "(24, 1062L, 48, 1638L)\n",
      "(24, 1062L, 48, 1638L)\n",
      "(24, 1062L, 48, 1638L)\n",
      "(24, 1062L, 48, 1638L)\n",
      "(24, 1062L, 48, 1638L)\n",
      "(24, 1062L, 48, 1638L)\n",
      "(24, 1062L, 48, 1638L)\n",
      "(24, 1062L, 48, 1638L)\n",
      "(24, 1062L, 48, 1638L)\n",
      "(24, 1062L, 48, 1638L)\n",
      "(24, 1062L, 48, 1638L)\n",
      "(24, 1062L, 48, 1638L)\n",
      "(24, 1062L, 48, 1638L)\n",
      "(24, 1062L, 48, 1638L)\n",
      "(24, 1062L, 48, 1638L)\n",
      "(24, 1062L, 48, 1638L)\n",
      "(24, 1062L, 48, 1638L)\n",
      "(24, 1062L, 48, 1638L)\n",
      "(24, 1062L, 48, 1638L)\n",
      "(24, 1062L, 48, 1638L)\n",
      "(24, 1062L, 48, 1638L)\n",
      "(24, 1062L, 48, 1638L)\n",
      "(24, 1062L, 48, 1638L)\n",
      "(24, 1062L, 24, 1678L)\n",
      "(24, 1062L, 24, 1678L)\n",
      "(24, 1062L, 24, 1678L)\n",
      "(24, 1062L, 24, 1678L)\n",
      "(24, 1062L, 24, 1678L)\n",
      "(24, 1062L, 24, 1678L)\n",
      "(24, 1062L, 24, 1678L)\n",
      "(24, 1062L, 24, 1678L)\n",
      "(24, 1062L, 24, 1678L)\n",
      "(24, 1062L, 24, 1678L)\n",
      "(24, 1062L, 24, 1678L)\n",
      "(24, 1062L, 24, 1678L)\n",
      "(24, 1062L, 24, 1678L)\n",
      "(24, 1062L, 24, 1678L)\n",
      "(24, 1062L, 24, 1678L)\n",
      "(24, 1062L, 24, 1678L)\n",
      "(24, 1062L, 24, 1678L)\n",
      "(24, 1062L, 24, 1678L)\n",
      "(24, 1062L, 24, 1678L)\n",
      "(24, 1062L, 24, 1678L)\n",
      "(24, 1062L, 24, 1678L)\n",
      "(24, 1062L, 24, 1678L)\n",
      "(24, 1062L, 24, 1678L)\n",
      "(24, 1062L, 24, 1678L)\n",
      "(24, 1062L, 24, 1678L)\n",
      "(24, 1062L, 24, 1678L)\n"
     ]
    }
   ],
   "source": [
    "# Find the minimal universal bounding box for all padded images\n",
    "\n",
    "y_lower = 1088\n",
    "y_upper = 0\n",
    "x_lower = 1705\n",
    "x_upper = 0\n",
    "\n",
    "for i in range(1,1585):\n",
    "    image = cv2.imread(\"padded_images\\\\\"+str(i)+\".jpg\")\n",
    "    y_min,y_max,x_min,x_max = bounding_box(image)\n",
    "    if y_lower > y_min:\n",
    "        y_lower = y_min\n",
    "    if y_upper < y_max:\n",
    "        y_upper = y_max\n",
    "    if x_lower > x_min:\n",
    "        x_lower = x_min\n",
    "    if x_upper < x_max:\n",
    "        x_upper = x_max\n",
    "    if i % 100 == 0: print (y_lower,y_upper,x_lower,x_upper)\n",
    "        \n",
    "print (y_lower,y_upper,x_lower,x_upper)\n",
    "# y_lower = 24\n",
    "# y_upper = 1062\n",
    "# x_lower = 24\n",
    "# x_upper = 1678"
   ]
  },
  {
   "cell_type": "code",
   "execution_count": 143,
   "metadata": {
    "collapsed": false
   },
   "outputs": [],
   "source": [
    "# Create library of cropped images\n",
    "\n",
    "y_lower = 24\n",
    "y_upper = 1062\n",
    "x_lower = 24\n",
    "x_upper = 1678\n",
    "\n",
    "for i in range(1,1585):\n",
    "    image = cv2.imread(\"padded_images\\\\\"+str(i)+\".jpg\")\n",
    "    cv2.imwrite(\"cropped_images\\\\\"+str(i)+\".jpg\",image[y_lower:y_upper+1,x_lower:x_upper+1])"
   ]
  },
  {
   "cell_type": "code",
   "execution_count": null,
   "metadata": {
    "collapsed": false
   },
   "outputs": [],
   "source": []
  },
  {
   "cell_type": "code",
   "execution_count": null,
   "metadata": {
    "collapsed": true
   },
   "outputs": [],
   "source": []
  }
 ],
 "metadata": {
  "kernelspec": {
   "display_name": "Python 2",
   "language": "python",
   "name": "python2"
  },
  "language_info": {
   "codemirror_mode": {
    "name": "ipython",
    "version": 2
   },
   "file_extension": ".py",
   "mimetype": "text/x-python",
   "name": "python",
   "nbconvert_exporter": "python",
   "pygments_lexer": "ipython2",
   "version": "2.7.13"
  }
 },
 "nbformat": 4,
 "nbformat_minor": 2
}
